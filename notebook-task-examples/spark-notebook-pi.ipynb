{
 "cells": [
  {
   "cell_type": "code",
   "execution_count": null,
   "metadata": {
    "tags": [
     "conf"
    ]
   },
   "outputs": [],
   "source": [
    "spark_conf={\n",
    "        ('spark.executor.memory', \"1000M\"),\n",
    "        ('spark.executor.cores', '1'),\n",
    "        ('spark.executor.instances', '3'),\n",
    "        ('spark.driver.memory', '1000M'),\n",
    "        ('spark.hadoop.mapred.output.committer.class', \"org.apache.hadoop.mapred.DirectFileOutputCommitter\"),\n",
    "        ('spark.hadoop.mapreduce.use.directfileoutputcommitter', \"true\"),\n",
    "    }"
   ]
  },
  {
   "cell_type": "code",
   "execution_count": null,
   "metadata": {
    "tags": [
     "parameters"
    ]
   },
   "outputs": [],
   "source": [
    "partitions = 10"
   ]
  },
  {
   "cell_type": "code",
   "execution_count": null,
   "metadata": {},
   "outputs": [],
   "source": [
    "from __future__ import print_function\n",
    "\n",
    "from random import random\n",
    "from operator import add\n",
    "from flytekit.contrib.notebook.helper import get_spark_context\n",
    "\n",
    "spark_context = get_spark_context(spark_conf)\n",
    "\n",
    "n = 100000 * partitions\n",
    "\n",
    "def f(_):\n",
    "    x = random() * 2 - 1\n",
    "    y = random() * 2 - 1\n",
    "    return 1 if x ** 2 + y ** 2 <= 1 else 0\n",
    "\n",
    "\n",
    "count = spark_context.parallelize(range(1, n + 1), partitions).map(f).reduce(add)\n",
    "print(\"Partitions %d\" % partitions)\n",
    "pi = 4.0 * count / n\n",
    "print(\"Pi is roughly %f\" % pi)\n",
    "spark_context.stop()"
   ]
  },
  {
   "cell_type": "code",
   "execution_count": null,
   "metadata": {
    "tags": [
     "outputs"
    ]
   },
   "outputs": [],
   "source": [
    "from flytekit.contrib.notebook.helper  import record_outputs\n",
    "\n",
    "record_outputs({\"pi\": pi})"
   ]
  },
  {
   "cell_type": "code",
   "execution_count": null,
   "metadata": {},
   "outputs": [],
   "source": []
  }
 ],
 "metadata": {
  "celltoolbar": "Tags",
  "kernelspec": {
   "display_name": "Python 3",
   "language": "python",
   "name": "python3"
  },
  "language_info": {
   "codemirror_mode": {
    "name": "ipython",
    "version": 3
   },
   "file_extension": ".py",
   "mimetype": "text/x-python",
   "name": "python",
   "nbconvert_exporter": "python",
   "pygments_lexer": "ipython3",
   "version": "3.7.3"
  }
 },
 "nbformat": 4,
 "nbformat_minor": 2
}
