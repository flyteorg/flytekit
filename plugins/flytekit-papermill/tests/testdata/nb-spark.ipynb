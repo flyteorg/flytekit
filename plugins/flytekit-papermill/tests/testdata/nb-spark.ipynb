{
 "cells": [
  {
   "cell_type": "code",
   "execution_count": 5,
   "metadata": {
    "tags": [
     "parameters"
    ]
   },
   "outputs": [],
   "source": [
    "local_spark_conf = {\"x\": \"y\"}"
   ]
  },
  {
   "cell_type": "code",
   "execution_count": 6,
   "metadata": {},
   "outputs": [],
   "source": [
    "from flytekitplugins.spark import new_spark_session\n",
    "\n",
    "session = new_spark_session(name=\"notebook\", conf=local_spark_conf)\n",
    "new_df = session.createDataFrame([(\"Bob\", 10)], [\"name\", \"age\"])"
   ]
  },
  {
   "cell_type": "code",
   "execution_count": 7,
   "metadata": {
    "tags": [
     "outputs"
    ]
   },
   "outputs": [
    {
     "data": {
      "text/plain": "literals {\n  key: \"df\"\n  value {\n    scalar {\n      schema {\n        uri: \"/tmp/flyte/20210112_205720/mock_remote/ee23ff2acaef3555473f8c3652839d2f/\"\n        type {\n        }\n      }\n    }\n  }\n}"
     },
     "execution_count": 7,
     "metadata": {},
     "output_type": "execute_result"
    }
   ],
   "source": [
    "from flytekitplugins.papermill import record_outputs\n",
    "\n",
    "record_outputs(df=new_df)"
   ]
  },
  {
   "cell_type": "code",
   "execution_count": 7,
   "metadata": {},
   "outputs": [],
   "source": []
  }
 ],
 "metadata": {
  "celltoolbar": "Tags",
  "kernelspec": {
   "display_name": "Python 3",
   "language": "python",
   "name": "python3"
  },
  "language_info": {
   "codemirror_mode": {
    "name": "ipython",
    "version": 3
   },
   "file_extension": ".py",
   "mimetype": "text/x-python",
   "name": "python",
   "nbconvert_exporter": "python",
   "pygments_lexer": "ipython3",
   "version": "3.7.3"
  }
 },
 "nbformat": 4,
 "nbformat_minor": 2
}
