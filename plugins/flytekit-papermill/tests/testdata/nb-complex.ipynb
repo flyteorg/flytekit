{
 "cells": [
  {
   "cell_type": "code",
   "execution_count": 12,
   "source": [
    "h = \"hello\"\n",
    "w = \"./nb-simple.ipynb\"\n",
    "n = 5"
   ],
   "outputs": [],
   "metadata": {
    "tags": [
     "parameters"
    ]
   }
  },
  {
   "cell_type": "code",
   "execution_count": 13,
   "source": [
    "# We're importing from the root folder because tests aren't released as part of the package, so there's nothing to\n",
    "# import from in the actual package. Assume that we're in the root of the papermill plugin project.\n",
    "from tests.testdata.datatype import X\n",
    "\n",
    "h = h + \" world!\"\n",
    "x = X(x=n)"
   ],
   "outputs": [],
   "metadata": {}
  },
  {
   "cell_type": "code",
   "execution_count": 14,
   "source": [
    "from flytekitplugins.papermill  import record_outputs\n",
    "from flytekit.types.file import PythonNotebook\n",
    "\n",
    "record_outputs(h=h, w=PythonNotebook(w), x=x)"
   ],
   "outputs": [
    {
     "output_type": "execute_result",
     "data": {
      "text/plain": [
       "literals {\n",
       "  key: \"h\"\n",
       "  value {\n",
       "    scalar {\n",
       "      primitive {\n",
       "        string_value: \"hello world!\"\n",
       "      }\n",
       "    }\n",
       "  }\n",
       "}\n",
       "literals {\n",
       "  key: \"w\"\n",
       "  value {\n",
       "    scalar {\n",
       "      blob {\n",
       "        metadata {\n",
       "          type {\n",
       "            format: \"ipynb\"\n",
       "          }\n",
       "        }\n",
       "        uri: \"/tmp/flyte/20210112_113703/mock_remote/b96d99e5767adf99ea71fa4d6f3374b8/nb-simple.ipynb\"\n",
       "      }\n",
       "    }\n",
       "  }\n",
       "}\n",
       "literals {\n",
       "  key: \"x\"\n",
       "  value {\n",
       "    scalar {\n",
       "      generic {\n",
       "        fields {\n",
       "          key: \"x\"\n",
       "          value {\n",
       "            number_value: 5.0\n",
       "          }\n",
       "        }\n",
       "      }\n",
       "    }\n",
       "  }\n",
       "}"
      ]
     },
     "metadata": {},
     "execution_count": 14
    }
   ],
   "metadata": {
    "tags": [
     "outputs"
    ]
   }
  },
  {
   "cell_type": "code",
   "execution_count": 14,
   "source": [],
   "outputs": [],
   "metadata": {}
  }
 ],
 "metadata": {
  "celltoolbar": "Tags",
  "kernelspec": {
   "display_name": "Python 3",
   "language": "python",
   "name": "python3"
  },
  "language_info": {
   "codemirror_mode": {
    "name": "ipython",
    "version": 3
   },
   "file_extension": ".py",
   "mimetype": "text/x-python",
   "name": "python",
   "nbconvert_exporter": "python",
   "pygments_lexer": "ipython3",
   "version": "3.7.3"
  }
 },
 "nbformat": 4,
 "nbformat_minor": 2
}
