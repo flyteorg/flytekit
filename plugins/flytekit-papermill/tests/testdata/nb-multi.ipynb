{
 "cells": [
  {
   "cell_type": "code",
   "execution_count": 2,
   "metadata": {
    "tags": [
     "parameters"
    ]
   },
   "outputs": [],
   "source": [
    "from datetime import datetime, timedelta\n",
    "\n",
    "x = 10\n",
    "y = 16\n",
    "h = \"hello\"\n",
    "n = datetime(2020, 10, 10, 10, 10, 10)"
   ]
  },
  {
   "cell_type": "code",
   "execution_count": 3,
   "metadata": {},
   "outputs": [
    {
     "name": "stdout",
     "output_type": "stream",
     "text": [
      "26,160\n"
     ]
    }
   ],
   "source": [
    "z = x + y\n",
    "m = x * y\n",
    "print(f\"{z},{m}\")\n",
    "h = h + \" world!\"\n",
    "n = n + timedelta(days=1)"
   ]
  },
  {
   "cell_type": "code",
   "execution_count": 4,
   "metadata": {
    "tags": [
     "outputs"
    ]
   },
   "outputs": [
    {
     "data": {
      "text/plain": "literals {\n  key: \"h\"\n  value {\n    scalar {\n      primitive {\n        string_value: \"helloworld!\"\n      }\n    }\n  }\n}\nliterals {\n  key: \"m\"\n  value {\n    scalar {\n      primitive {\n        integer: 160\n      }\n    }\n  }\n}\nliterals {\n  key: \"n\"\n  value {\n    scalar {\n      primitive {\n        datetime {\n          seconds: 1602411010\n        }\n      }\n    }\n  }\n}\nliterals {\n  key: \"z\"\n  value {\n    scalar {\n      primitive {\n        integer: 26\n      }\n    }\n  }\n}"
     },
     "execution_count": 4,
     "metadata": {},
     "output_type": "execute_result"
    }
   ],
   "source": [
    "from flytekitplugins.papermill import record_outputs\n",
    "\n",
    "record_outputs(z=z, m=m, h=h, n=n)"
   ]
  },
  {
   "cell_type": "code",
   "execution_count": 4,
   "metadata": {},
   "outputs": [],
   "source": []
  }
 ],
 "metadata": {
  "celltoolbar": "Tags",
  "kernelspec": {
   "display_name": "Python 3",
   "language": "python",
   "name": "python3"
  },
  "language_info": {
   "codemirror_mode": {
    "name": "ipython",
    "version": 3
   },
   "file_extension": ".py",
   "mimetype": "text/x-python",
   "name": "python",
   "nbconvert_exporter": "python",
   "pygments_lexer": "ipython3",
   "version": "3.7.3"
  }
 },
 "nbformat": 4,
 "nbformat_minor": 2
}
